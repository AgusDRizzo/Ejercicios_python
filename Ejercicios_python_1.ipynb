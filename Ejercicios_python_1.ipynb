{
  "nbformat": 4,
  "nbformat_minor": 0,
  "metadata": {
    "colab": {
      "provenance": []
    },
    "kernelspec": {
      "name": "python3",
      "display_name": "Python 3"
    },
    "language_info": {
      "name": "python"
    }
  },
  "cells": [
    {
      "cell_type": "code",
      "execution_count": null,
      "metadata": {
        "colab": {
          "base_uri": "https://localhost:8080/"
        },
        "id": "M21f2CjfI_Q8",
        "outputId": "b5e32abc-0164-4aac-a352-4ae6294d3600"
      },
      "outputs": [
        {
          "output_type": "stream",
          "name": "stdout",
          "text": [
            "0\n"
          ]
        }
      ],
      "source": [
        "\n",
        "#Ejercicio 1 - Definir una función max() que tome como argumento dos números y devuelva el mayor de ellos. (Es cierto que python tiene una función max() incorporada, pero hacerla nosotros mismos es un muy buen ejercicio.\n",
        "def max(x,y):\n",
        "  if x > y:\n",
        "     return x\n",
        "  else:\n",
        "    return y\n",
        "\n",
        "print(max(-2,0))"
      ]
    },
    {
      "cell_type": "code",
      "source": [
        "#Ejercicio 2 -  Definir una función max_de_tres(), que tome tres números como argumentos y devuelva el mayor de ellos.\n",
        "\n",
        "def max_de_tres(x,y,z):\n",
        "  if x > y > z:\n",
        "    return x\n",
        "  elif y > z:\n",
        "    return y\n",
        "  else:\n",
        "    return z\n",
        "\n"
      ],
      "metadata": {
        "id": "KlV9mSTBKDDS"
      },
      "execution_count": null,
      "outputs": []
    },
    {
      "cell_type": "code",
      "source": [
        "#Ejercicio 3 - Definir una función que calcule la longitud de una lista o una cadena dada. (Es cierto que python tiene la función len() incorporada, pero escribirla por nosotros mismos resulta un muy buen ejercicio.\n",
        "\n",
        "def longitud(lista):\n",
        "  x = 0\n",
        "  while lista != []:\n",
        "    lista.pop()\n",
        "    x +=1\n",
        "  print(x)\n",
        "\n",
        "mi_lista = [1, 3, 6, 8, 0, 13]\n",
        "longitud(mi_lista)"
      ],
      "metadata": {
        "colab": {
          "base_uri": "https://localhost:8080/"
        },
        "id": "iM5_DUG7L5Pp",
        "outputId": "73c0e0dd-05dc-4b07-c361-595a91cfd628"
      },
      "execution_count": null,
      "outputs": [
        {
          "output_type": "stream",
          "name": "stdout",
          "text": [
            "6\n"
          ]
        }
      ]
    },
    {
      "cell_type": "code",
      "source": [
        "#Ejercicio 4 - Escribir una función que tome un carácter y devuelva True si es una vocal, de lo contrario devuelve False.\n",
        "\n",
        "def es_vocal(x):\n",
        "  vocales = \"aeiou\"\n",
        "  if x.lower() in vocales:\n",
        "    return True\n",
        "  else:\n",
        "    return False\n",
        "\n",
        "es_vocal(\"\")"
      ],
      "metadata": {
        "colab": {
          "base_uri": "https://localhost:8080/"
        },
        "id": "zHvzSh4ex9aW",
        "outputId": "a6507bc7-1814-41c4-8b90-c326396f8fe8"
      },
      "execution_count": null,
      "outputs": [
        {
          "output_type": "execute_result",
          "data": {
            "text/plain": [
              "False"
            ]
          },
          "metadata": {},
          "execution_count": 10
        }
      ]
    },
    {
      "cell_type": "code",
      "source": [
        "#Ejercicio 5 - Escribir una función sum() y una función multip() que sumen y multipliquen respectivamente todos los números de una lista. Por ejemplo: sum([1,2,3,4]) debería devolver 10 y multip([1,2,3,4]) debería devolver 24.\n",
        "\n",
        "def sumar_lista(lista):\n",
        "  y = 0\n",
        "  while lista != []:\n",
        "    y += lista.pop()\n",
        "  return y\n",
        "\n",
        "def multiplicar_lista(lista):\n",
        "  y = 1\n",
        "  while lista != []:\n",
        "    y *= lista.pop()\n",
        "  return y\n",
        "\n",
        "mi_lista = [2, 5, 10]\n",
        "sumar_lista(mi_lista)\n",
        "multiplicar_lista(mi_lista)"
      ],
      "metadata": {
        "colab": {
          "base_uri": "https://localhost:8080/"
        },
        "id": "shmqJDqG0C13",
        "outputId": "4677c127-d229-4442-e8ec-2cd04a67fbcb"
      },
      "execution_count": null,
      "outputs": [
        {
          "output_type": "execute_result",
          "data": {
            "text/plain": [
              "100"
            ]
          },
          "metadata": {},
          "execution_count": 20
        }
      ]
    },
    {
      "cell_type": "code",
      "source": [
        "#Ejercicio 6 - Definir una función inversa() que calcule la inversión de una cadena. Por ejemplo la cadena \"estoy probando\" debería devolver la cadena \"odnaborp yotse\"\n",
        "def invertir(string):\n",
        "  string_invertido = \"\"\n",
        "  for i in range(1, len(string)+1):\n",
        "    string_invertido += string[-i]\n",
        "  return string_invertido\n",
        "mi_string = \"Papito\"\n",
        "invertir(mi_string)"
      ],
      "metadata": {
        "colab": {
          "base_uri": "https://localhost:8080/",
          "height": 35
        },
        "id": "FsGJ-_d_2RyN",
        "outputId": "784b8ddd-93c1-447d-bba8-21cf0b88985d"
      },
      "execution_count": null,
      "outputs": [
        {
          "output_type": "execute_result",
          "data": {
            "text/plain": [
              "'otipaP'"
            ],
            "application/vnd.google.colaboratory.intrinsic+json": {
              "type": "string"
            }
          },
          "metadata": {},
          "execution_count": 37
        }
      ]
    },
    {
      "cell_type": "code",
      "source": [
        "#Ejercicio 7 - Definir una función es_palindromo() que reconoce palíndromos (es decir, palabras que tienen el mismo aspecto escritas invertidas), ejemplo: es_palindromo (\"radar\") tendría que devolver True.\n",
        "\n",
        "def palindromo(string):\n",
        "  string_invertido = \"\"\n",
        "  for i in range(1, len(string)+1):\n",
        "    string_invertido += string[-i]\n",
        "  string_invertido_junto = string_invertido.replace(\" \", \"\")\n",
        "  string_no_invertido = string.replace(\" \", \"\")\n",
        "  print(string_invertido)\n",
        "  if string_no_invertido.lower() == string_invertido_junto.lower():\n",
        "    return True\n",
        "  else:\n",
        "    return False\n",
        "\n",
        "mi_string = \"anita la gorda lagartona no traga la droga latina\"\n",
        "palindromo(mi_string)"
      ],
      "metadata": {
        "colab": {
          "base_uri": "https://localhost:8080/"
        },
        "id": "-MHNHLFZ6mwE",
        "outputId": "138a4f4a-4bcd-4f01-d2e7-e283060162f3"
      },
      "execution_count": null,
      "outputs": [
        {
          "output_type": "stream",
          "name": "stdout",
          "text": [
            "anital agord al agart on anotragal adrog al atina\n"
          ]
        },
        {
          "output_type": "execute_result",
          "data": {
            "text/plain": [
              "True"
            ]
          },
          "metadata": {},
          "execution_count": 47
        }
      ]
    },
    {
      "cell_type": "code",
      "source": [
        "#Ejercicio 8 - Definir una función superposicion() que tome dos listas y devuelva True si tienen al menos 1 miembro en común o devuelva False de lo contrario. Escribir la función usando el bucle for anidado.\n",
        "\n",
        "def superposicion(x, y):\n",
        "  z = 0\n",
        "  for i in x:\n",
        "    if i in y:\n",
        "      z += 1\n",
        "    else:\n",
        "      continue\n",
        "  if z > 0:\n",
        "    return True\n",
        "  else:\n",
        "    return False\n",
        "\n",
        "lista_1 = [1, 4, 34, 50]\n",
        "lista_2 = [1, 6, 1, 7]\n",
        "superposicion(lista_1, lista_2)"
      ],
      "metadata": {
        "colab": {
          "base_uri": "https://localhost:8080/"
        },
        "id": "KlYy_dOc89_j",
        "outputId": "af13d011-b7cd-43a5-cb4a-6130db92813a"
      },
      "execution_count": null,
      "outputs": [
        {
          "output_type": "execute_result",
          "data": {
            "text/plain": [
              "True"
            ]
          },
          "metadata": {},
          "execution_count": 51
        }
      ]
    },
    {
      "cell_type": "code",
      "source": [
        "#Ejercicio 9 - Definir una función generar_n_caracteres() que tome un entero n y devuelva el caracter multiplicado por n. Por ejemplo: generar_n_caracteres(5, \"x\") debería devolver \"xxxxx\".\n",
        "\n",
        "def generar_n_caracteres(x, y):\n",
        "  string_nuevo = \"\"\n",
        "  for i in range(0, x):\n",
        "    if i < x:\n",
        "      string_nuevo += y\n",
        "    else:\n",
        "      break\n",
        "  return string_nuevo\n",
        "generar_n_caracteres(2, \"a\")\n"
      ],
      "metadata": {
        "colab": {
          "base_uri": "https://localhost:8080/",
          "height": 35
        },
        "id": "fuXk2rDU-3xy",
        "outputId": "2f2795bf-29ab-4fa8-f3aa-bcec8fad4d86"
      },
      "execution_count": null,
      "outputs": [
        {
          "output_type": "execute_result",
          "data": {
            "text/plain": [
              "'aa'"
            ],
            "application/vnd.google.colaboratory.intrinsic+json": {
              "type": "string"
            }
          },
          "metadata": {},
          "execution_count": 55
        }
      ]
    },
    {
      "cell_type": "code",
      "source": [
        "#Ejercicio 10 - 10 - Definir un histograma procedimiento() que tome una lista de números enteros e imprima un histograma en la pantalla. Ejemplo: procedimiento([4, 9, 7]) debería imprimir lo siguiente:\n",
        "\n",
        "def histograma(lista):\n",
        "  for i in lista:\n",
        "    print(generar_n_caracteres(i, \"*\"))\n",
        "mi_lista = [1, 3, 5, 3, 1]\n",
        "histograma(mi_lista)"
      ],
      "metadata": {
        "colab": {
          "base_uri": "https://localhost:8080/"
        },
        "id": "ghCoWU1iCi5I",
        "outputId": "a23af125-b642-497d-c54e-d1ec16c7ff71"
      },
      "execution_count": null,
      "outputs": [
        {
          "output_type": "stream",
          "name": "stdout",
          "text": [
            "*\n",
            "***\n",
            "*****\n",
            "***\n",
            "*\n"
          ]
        }
      ]
    }
  ]
}