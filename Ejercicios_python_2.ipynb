{
  "nbformat": 4,
  "nbformat_minor": 0,
  "metadata": {
    "colab": {
      "provenance": []
    },
    "kernelspec": {
      "name": "python3",
      "display_name": "Python 3"
    },
    "language_info": {
      "name": "python"
    }
  },
  "cells": [
    {
      "cell_type": "code",
      "execution_count": null,
      "metadata": {
        "colab": {
          "base_uri": "https://localhost:8080/"
        },
        "id": "BfK2miXPdHVu",
        "outputId": "fe71c82f-7502-421f-f72c-6b2d6228b04d"
      },
      "outputs": [
        {
          "output_type": "execute_result",
          "data": {
            "text/plain": [
              "23"
            ]
          },
          "metadata": {},
          "execution_count": 103
        }
      ],
      "source": [
        "#Ejercicio 1 - La función max() del ejercicio 1 (primera parte) y la función max_de_tres() del ejercicio 2 (primera parte), solo van a funcionar para 2 o 3 números. Supongamos que tenemos mas de 3 números o no sabemos cuantos números son. Escribir una función max_in_list() que tome una lista de números y devuelva el mas grande.\n",
        "def valor_maximo(lista):\n",
        "    z = False\n",
        "    y = 0\n",
        "    lista_probar = lista\n",
        "    while lista_probar != []:\n",
        "      y = lista_probar.pop()\n",
        "      if lista_probar == []:\n",
        "        return y\n",
        "      else:\n",
        "        for i in lista_probar:\n",
        "            if y < i:\n",
        "              z = False\n",
        "              break\n",
        "            else:\n",
        "              z = True\n",
        "              continue\n",
        "        if z == True:\n",
        "          return y\n",
        "\n",
        "        else:\n",
        "          continue\n",
        "\n",
        "\n",
        "\n",
        "mi_lista =[-9, 23, -4]\n",
        "valor_maximo(mi_lista)\n",
        "\n"
      ]
    },
    {
      "cell_type": "code",
      "source": [
        "#Ejercicio 2 - Escribir una función mas_larga() que tome una lista de palabras y devuelva la mas larga.\n",
        "\n",
        "def mas_larga(lista):\n",
        "    z = False\n",
        "    y = 0\n",
        "    lista_probar = lista\n",
        "    while lista_probar != []:\n",
        "      y = lista_probar.pop()\n",
        "      if lista_probar == []:\n",
        "        return y\n",
        "      else:\n",
        "        for i in lista_probar:\n",
        "            if len(y) < len(i):\n",
        "              z = False\n",
        "              break\n",
        "            else:\n",
        "              z = True\n",
        "              continue\n",
        "        if z == True:\n",
        "          return y\n",
        "\n",
        "        else:\n",
        "          continue\n",
        "\n",
        "mi_lista = [\"Hola\", \"australopitecus\", \"chorlito\", \"supercalifragilisticoespialidoso\"]\n",
        "mas_larga(mi_lista)"
      ],
      "metadata": {
        "colab": {
          "base_uri": "https://localhost:8080/",
          "height": 35
        },
        "id": "ESmo_53HPJMr",
        "outputId": "37673a78-23e5-4a3c-cb0d-5af085d3c941"
      },
      "execution_count": null,
      "outputs": [
        {
          "output_type": "execute_result",
          "data": {
            "text/plain": [
              "'supercalifragilisticoespialidoso'"
            ],
            "application/vnd.google.colaboratory.intrinsic+json": {
              "type": "string"
            }
          },
          "metadata": {},
          "execution_count": 18
        }
      ]
    },
    {
      "cell_type": "code",
      "source": [
        "#Ejercicio 3 - Escribir una función filtrar_palabras() que tome una lista de palabras y un entero n, y devuelva las palabras que tengan mas de n caracteres.\n",
        "\n",
        "def filtrar_palabras(lista, n):\n",
        "  lista_output = []\n",
        "  for i in lista:\n",
        "    if len(i) > n:\n",
        "      lista_output.append(i)\n",
        "    else:\n",
        "      continue\n",
        "  return lista_output\n",
        "\n",
        "mi_lista = [\"Hola\", \"australopitecus\", \"chorlito\", \"supercalifragilisticoespialidoso\"]\n",
        "filtrar_palabras(mi_lista, 5)\n"
      ],
      "metadata": {
        "colab": {
          "base_uri": "https://localhost:8080/"
        },
        "id": "xGQk1ONcQKez",
        "outputId": "05e40a6f-e11c-439a-eba4-aa2476eb1cc4"
      },
      "execution_count": null,
      "outputs": [
        {
          "output_type": "execute_result",
          "data": {
            "text/plain": [
              "['australopitecus', 'chorlito', 'supercalifragilisticoespialidoso']"
            ]
          },
          "metadata": {},
          "execution_count": 33
        }
      ]
    },
    {
      "cell_type": "code",
      "source": [
        "#Ejercicio 4 - Escribir un programa que le diga al usuario que ingrese una cadena. El programa tiene que evaluar la cadena y decir cuantas letras mayúsculas tiene.\n",
        "def cuantas_mayusculas(palabra):\n",
        "  x = 0\n",
        "  for i in palabra:\n",
        "    if i in (\"ABCDEFGHIJKLMNOPQRSTUVWXYZ\"):\n",
        "     x += 1\n",
        "    else:\n",
        "     x += 0\n",
        "  return x\n",
        "cuantas_mayusculas(\"Hola como Estas\")"
      ],
      "metadata": {
        "colab": {
          "base_uri": "https://localhost:8080/"
        },
        "id": "BTxwgHgxUSZd",
        "outputId": "821e1c2d-d9b7-4884-901f-40248ec4de84"
      },
      "execution_count": null,
      "outputs": [
        {
          "output_type": "execute_result",
          "data": {
            "text/plain": [
              "2"
            ]
          },
          "metadata": {},
          "execution_count": 36
        }
      ]
    },
    {
      "cell_type": "code",
      "source": [
        "#Ejercicio 5 - Construir un pequeño programa que convierta números binarios en enteros.\n",
        "\n",
        "#calculo de lista de potencias de acuerdo a los digitos\n",
        "def binario_a_entero(binario):\n",
        "  binario_r = binario[::-1]\n",
        "\n",
        "  lista_potencias = []\n",
        "  for i in range(0, len(str(binario_r))):\n",
        "      lista_potencias.append(2**i)\n",
        "\n",
        "  lista_digitos = []\n",
        "  for i in str(binario_r):\n",
        "    lista_digitos.append(int(i))\n",
        "\n",
        "  lista_multiplos = []\n",
        "  for i in range(len(lista_potencias)):\n",
        "    lista_multiplos.append(lista_potencias[i]*lista_digitos[i])\n",
        "  return sum(lista_multiplos)\n",
        "\n",
        "binario_a_entero(\"1101\")\n",
        "\n"
      ],
      "metadata": {
        "colab": {
          "base_uri": "https://localhost:8080/"
        },
        "id": "h4_ZA0_LV-tA",
        "outputId": "8a64fa2f-80d8-4eb7-8661-1907d56e93fc"
      },
      "execution_count": null,
      "outputs": [
        {
          "output_type": "execute_result",
          "data": {
            "text/plain": [
              "13"
            ]
          },
          "metadata": {},
          "execution_count": 76
        }
      ]
    },
    {
      "cell_type": "code",
      "source": [
        "#Ejercicio 6 - Escribir un pequeño programa donde:\n",
        "#- Se ingresa el año en curso.\n",
        "#- Se ingresa el nombre y el año de nacimiento de tres personas.\n",
        "#- Se calcula cuántos años cumplirán durante el año en curso.\n",
        "#- Se imprime en pantalla.\n",
        "\n",
        "diccionario_nombre_ano = {}\n",
        "for i in range(1,4):\n",
        "  diccionario_nombre_ano.update({input(\"Ingrese su nombre \"):input(\"Ingrese su año de nacimiento \")})\n",
        "ano_actual = input(\"Ingrese año actual \")\n",
        "for key in diccionario_nombre_ano:\n",
        "  print(f'{key} cumple {int(ano_actual) - int(diccionario_nombre_ano[key])} años')\n",
        "\n",
        "\n"
      ],
      "metadata": {
        "colab": {
          "base_uri": "https://localhost:8080/"
        },
        "id": "vxb796CUfdVR",
        "outputId": "85a9df20-f92b-44cd-bbf1-522ec5d294ce"
      },
      "execution_count": null,
      "outputs": [
        {
          "output_type": "stream",
          "name": "stdout",
          "text": [
            "Ingrese su nombreAgustin\n",
            "Ingrese su ano de nacimiento1992\n",
            "Ingrese ano actual2024\n",
            "Agustin cumple 32 anos\n"
          ]
        }
      ]
    },
    {
      "cell_type": "code",
      "source": [
        "#Ejercicio 7 -"
      ],
      "metadata": {
        "id": "t4jbhqoJGwwQ"
      },
      "execution_count": null,
      "outputs": []
    },
    {
      "cell_type": "code",
      "source": [
        "#Ejercicio 8 - Definir una lista con un conjunto de nombres, imprimir la cantidad de comienzan con la letra a.También se puede hacer elegir al usuario la letra a buscar.  (Un poco mas emocionante)\n",
        "lista_nombres = [\"Agustin\", \"Belinda\", \"Carlos\", \"Dana\", \"Ana\" ]\n",
        "letra_elegida = input(\"Elija una letra: \").lower()\n",
        "lista_output = []\n",
        "for i in lista_nombres:\n",
        "  letra_comparar = i[0].lower()\n",
        "  if letra_elegida == letra_comparar:\n",
        "    lista_output.append(i)\n",
        "  else:\n",
        "    continue\n",
        "if lista_output == []:\n",
        "  print(f\"No hay nombres que empiezen con la letra {letra_elegida}\")\n",
        "else:\n",
        "  print(f'{len(lista_output)} nombres comienzan con la letra \"{letra_elegida}\"')\n",
        "  print(lista_output)\n"
      ],
      "metadata": {
        "colab": {
          "base_uri": "https://localhost:8080/"
        },
        "id": "YEWHCi3iG1eL",
        "outputId": "ff887663-6bbe-4728-aefd-56a0e4a1f071"
      },
      "execution_count": null,
      "outputs": [
        {
          "output_type": "stream",
          "name": "stdout",
          "text": [
            "Elija una letra: a\n",
            "2 nombres comienzan con la letra \"a\"\n",
            "['Agustin', 'Ana']\n"
          ]
        }
      ]
    },
    {
      "cell_type": "code",
      "source": [
        "#Ejercicio 9 - Crear una función contar_vocales(), que reciba una palabra y cuente cuantas letras \"a\" tiene, cuantas letras \"e\" tiene y así hasta completar todas las vocales.Se puede hacer que el usuario sea quien elija la palabra.\n",
        "\n",
        "palabra_elegida = input(\"Elija una palabra \").lower()\n",
        "lista_a = []\n",
        "lista_e = []\n",
        "lista_i = []\n",
        "lista_o = []\n",
        "lista_u = []\n",
        "for i in palabra_elegida:\n",
        "  if i in \"a\":\n",
        "    lista_a.append(1)\n",
        "  elif i in \"e\":\n",
        "    lista_e.append(1)\n",
        "  elif i in \"i\":\n",
        "    lista_i.append(1)\n",
        "  elif i in \"o\":\n",
        "    lista_o.append(1)\n",
        "  elif i in \"u\":\n",
        "    lista_u.append(1)\n",
        "  else:\n",
        "    continue\n",
        "print(f'La palabra \"{palabra_elegida}\" tiene la siguiente cantidad de vocales:\\n a: {len(lista_a)}\\n e: {len(lista_e)}\\n i: {len(lista_i)}\\n o: {len(lista_o)}\\n u: {len(lista_u)}')\n",
        "\n",
        "\n",
        "\n"
      ],
      "metadata": {
        "colab": {
          "base_uri": "https://localhost:8080/"
        },
        "id": "AlXyzOTJI_tz",
        "outputId": "db081ea6-5c58-4945-b663-a9fe32d148a7"
      },
      "execution_count": null,
      "outputs": [
        {
          "output_type": "stream",
          "name": "stdout",
          "text": [
            "Elija una palabraaguila\n",
            "La palabra aguila tiene la siguiente cantidad de vocales:\n",
            " a: 2\n",
            " e: 0\n",
            " i: 1\n",
            " o: 0\n",
            " u: 1\n"
          ]
        }
      ]
    },
    {
      "cell_type": "markdown",
      "source": [],
      "metadata": {
        "id": "Q-rvhTvOFy1T"
      }
    }
  ]
}